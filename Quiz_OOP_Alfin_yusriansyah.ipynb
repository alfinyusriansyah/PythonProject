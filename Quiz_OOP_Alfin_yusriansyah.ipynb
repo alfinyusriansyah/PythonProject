{
  "nbformat": 4,
  "nbformat_minor": 0,
  "metadata": {
    "kernelspec": {
      "display_name": "Python (sandbox)",
      "language": "python",
      "name": "sandbox"
    },
    "language_info": {
      "codemirror_mode": {
        "name": "ipython",
        "version": 3
      },
      "file_extension": ".py",
      "mimetype": "text/x-python",
      "name": "python",
      "nbconvert_exporter": "python",
      "pygments_lexer": "ipython3",
      "version": "3.7.8"
    },
    "colab": {
      "name": "Quiz_OOP.ipynb",
      "provenance": [],
      "collapsed_sections": []
    }
  },
  "cells": [
    {
      "cell_type": "markdown",
      "metadata": {
        "id": "0cIyjOhu93rn"
      },
      "source": [
        "# Quiz\n"
      ]
    },
    {
      "cell_type": "markdown",
      "metadata": {
        "id": "95TSfwpU93sF"
      },
      "source": [
        "1. Buatlah kode program sederhana Kalkulator dengan menerapkan Class dan konsep OOP.\n",
        "2. Buatlah kode program dengan class Kendaraan. Dimana nanti kalian akan membuat class turunan dari Kendaraan seperti Mobil, Sepeda Motor, dsb dan class tersebut menggunakan Inheritance class Kendaraan. (Opsional: Tambahkan method lain pada class turunannya)\n",
        "\n",
        "**KREASIKAN SESUKA KALIAN, TIDAK ADA JAWABAN YANG SALAH**\n",
        "\n",
        "*tentu saja kalo error jawaban kalian pasti salah* 🏃"
      ]
    },
    {
      "cell_type": "markdown",
      "metadata": {
        "id": "bG3nHCi593sI"
      },
      "source": [
        "Kunci Jawaban untuk Panitia"
      ]
    },
    {
      "cell_type": "markdown",
      "metadata": {
        "id": "ttq0t2yO93sI"
      },
      "source": [
        "# 1 "
      ]
    },
    {
      "cell_type": "code",
      "metadata": {
        "ExecuteTime": {
          "end_time": "2020-12-24T13:57:24.983022Z",
          "start_time": "2020-12-24T13:57:24.977869Z"
        },
        "id": "NeRep1Y493sJ",
        "colab": {
          "base_uri": "https://localhost:8080/"
        },
        "outputId": "b5188bf8-cad8-43d4-aa58-f196e65f00c7"
      },
      "source": [
        "class Kalkulator:\r\n",
        "  \r\n",
        "    def __init__(self, a, b):\r\n",
        "        self.a = a\r\n",
        "        self.b = b\r\n",
        "      \r\n",
        "    def add(self):\r\n",
        "        return self.a+self.b\r\n",
        "\r\n",
        "    def subtract(self):\r\n",
        "        return self.a-self.b\r\n",
        "        \r\n",
        "    def multiply(self):\r\n",
        "        return self.a*self.b\r\n",
        " \r\n",
        "    def divide(self):\r\n",
        "        return self.a/self.b\r\n",
        " \r\n",
        " \r\n",
        "while True:\r\n",
        "    print(\" \")\r\n",
        "    print(\"1: Penjumlahan (+)\")\r\n",
        "    print(\"2: Penguranga (-)\")\r\n",
        "    print(\"3: Perkalian (x)\")\r\n",
        "    print(\"4: Pembagian (:)\")\r\n",
        "    print(\"5: Exit\")\r\n",
        "    \r\n",
        "    ch = int(input(\"Pilih Operasi: \"))\r\n",
        "\r\n",
        "    if ch in (1, 2, 3, 4, 5):  \r\n",
        "        if(ch == 5):\r\n",
        "            break\r\n",
        "        a = float(input(\"masukan angka pertama: \"))\r\n",
        "        b = float(input(\"masukan angak kedua: \"))\r\n",
        "\r\n",
        "        my_cl = Kalkulator(a,b)\r\n",
        "        \r\n",
        "        if(ch == 1):\r\n",
        "            print(a, \"+\", b, \"=\", my_cl.add())\r\n",
        "        elif(ch == 2):\r\n",
        "            print(a, \"-\", b, \"=\", my_cl.subtract())\r\n",
        "        elif(ch == 3):\r\n",
        "            print(a, \"*\", b, \"=\", my_cl.multiply())\r\n",
        "        elif(ch == 4):\r\n",
        "            print(a, \"/\", b, \"=\", my_cl.divide())\r\n",
        "    \r\n",
        "    else:\r\n",
        "        print(\"Invalid Input\")\r\n",
        "\r\n"
      ],
      "execution_count": 22,
      "outputs": [
        {
          "output_type": "stream",
          "text": [
            " \n",
            "1: Penjumlahan (+)\n",
            "2: Penguranga (-)\n",
            "3: Perkalian (x)\n",
            "4: Pembagian (:)\n",
            "5: Exit\n",
            "Pilih Operasi: 1\n",
            "masukan angka pertama: 3\n",
            "masukan angak kedua: 4\n",
            "3.0 + 4.0 = 7.0\n",
            " \n",
            "1: Penjumlahan (+)\n",
            "2: Penguranga (-)\n",
            "3: Perkalian (x)\n",
            "4: Pembagian (:)\n",
            "5: Exit\n",
            "Pilih Operasi: 2\n",
            "masukan angka pertama: 5\n",
            "masukan angak kedua: 2\n",
            "5.0 - 2.0 = 3.0\n",
            " \n",
            "1: Penjumlahan (+)\n",
            "2: Penguranga (-)\n",
            "3: Perkalian (x)\n",
            "4: Pembagian (:)\n",
            "5: Exit\n",
            "Pilih Operasi: 3\n",
            "masukan angka pertama: 10\n",
            "masukan angak kedua: 4\n",
            "10.0 * 4.0 = 40.0\n",
            " \n",
            "1: Penjumlahan (+)\n",
            "2: Penguranga (-)\n",
            "3: Perkalian (x)\n",
            "4: Pembagian (:)\n",
            "5: Exit\n",
            "Pilih Operasi: 4\n",
            "masukan angka pertama: 60\n",
            "masukan angak kedua: 10\n",
            "60.0 / 10.0 = 6.0\n",
            " \n",
            "1: Penjumlahan (+)\n",
            "2: Penguranga (-)\n",
            "3: Perkalian (x)\n",
            "4: Pembagian (:)\n",
            "5: Exit\n",
            "Pilih Operasi: 5\n"
          ],
          "name": "stdout"
        }
      ]
    },
    {
      "cell_type": "markdown",
      "metadata": {
        "id": "23H2HM3I93sM"
      },
      "source": [
        "# 2 "
      ]
    },
    {
      "cell_type": "code",
      "metadata": {
        "colab": {
          "base_uri": "https://localhost:8080/"
        },
        "id": "HXB67bQx6g_7",
        "outputId": "98b23cb5-8436-433e-f4eb-639bb73babf9"
      },
      "source": [
        "class Kendaraan:\r\n",
        "    def __init__(self,jenis,nopol):\r\n",
        "        self.jenis=jenis\r\n",
        "        self.nopol=nopol\r\n",
        "\r\n",
        "class Mobil(Kendaraan):\r\n",
        "    def __init__(self,jenis,nopol,merk,warna):\r\n",
        "        self.merk=merk\r\n",
        "        self.warna = warna\r\n",
        "        super().__init__(jenis,nopol)\r\n",
        "\r\n",
        "\r\n",
        "class Motor(Kendaraan):\r\n",
        "    def __init__(self,jenis,nopol,merk,warna):\r\n",
        "        self.merk=merk\r\n",
        "        self.warna = warna\r\n",
        "        super().__init__(jenis,nopol)        \r\n",
        "\r\n",
        "while True:\r\n",
        "\r\n",
        "\r\n",
        "  print(\" \")\r\n",
        "  print(\"Jenis kendaraan :\")\r\n",
        "  print(\"1. Mobil :\")\r\n",
        "  print(\"2. Sepeda Motor :\")\r\n",
        "  print(\"3. exit :\")\r\n",
        "\r\n",
        "  ken = int(input(\"Masukan jenis kendaraan :\"))\r\n",
        "\r\n",
        " \r\n",
        "\r\n",
        "  if ken == 1 :\r\n",
        "    \r\n",
        "    print(\"Jenis kendaraan Mobil\")\r\n",
        "    f = input(\"Pemilik:\")\r\n",
        "    l = input(\"Nopol :\")\r\n",
        "    m = input(\"Merk:\")\r\n",
        "    w = input(\"Warna:\")\r\n",
        "    print(\" \")\r\n",
        "    me = Mobil(f,l,m,w)\r\n",
        "    \r\n",
        "    print('pemilik :{}, keterangan Mobil: {}, {}, {},'.format(me.jenis,me.nopol,me.merk,me.warna))\r\n",
        "\r\n",
        "\r\n",
        "  elif (ken == 2 ):\r\n",
        "    print(\" \")\r\n",
        "    print(\"Jenis kendaraan motor\")\r\n",
        "    f = input(\"Pemilik:\")\r\n",
        "    l = input(\"Nopol :\")\r\n",
        "    m = input(\"Merk:\")\r\n",
        "    w = input(\"Warna:\")\r\n",
        "    print(\" \")\r\n",
        "\r\n",
        "    em = Motor(f,l,m,w)\r\n",
        "    print('pemilik :{}, keterangan Motor: {}, {}, {},'.format(em.jenis,em.nopol,em.merk,em.warna))\r\n",
        "\r\n",
        "  elif (ken == 3 ):\r\n",
        "    break\r\n",
        " \r\n",
        "  else :\r\n",
        "    print (\"invalid input !!!\")       \r\n",
        "\r\n",
        "\r\n",
        "   \r\n"
      ],
      "execution_count": 21,
      "outputs": [
        {
          "output_type": "stream",
          "text": [
            " \n",
            "Jenis kendaraan :\n",
            "1. Mobil :\n",
            "2. Sepeda Motor :\n",
            "3. exit :\n",
            "Masukan jenis kendaraan :1\n",
            "Jenis kendaraan Mobil\n",
            "Pemilik:BUDIMAN\n",
            "Nopol :P 4456 BN\n",
            "Merk:KIJANG INNOVA\n",
            "Warna:HITAM\n",
            " \n",
            "pemilik :BUDIMAN, keterangan Mobil: P 4456 BN, KIJANG INNOVA, HITAM,\n",
            " \n",
            "Jenis kendaraan :\n",
            "1. Mobil :\n",
            "2. Sepeda Motor :\n",
            "3. exit :\n",
            "Masukan jenis kendaraan :2\n",
            " \n",
            "Jenis kendaraan motor\n",
            "Pemilik:RUDIMAN\n",
            "Nopol :N 2235 HG\n",
            "Merk:SCOOPY HONDA\n",
            "Warna:MERAH\n",
            " \n",
            "pemilik :RUDIMAN, keterangan Motor: N 2235 HG, SCOOPY HONDA, MERAH,\n",
            " \n",
            "Jenis kendaraan :\n",
            "1. Mobil :\n",
            "2. Sepeda Motor :\n",
            "3. exit :\n",
            "Masukan jenis kendaraan :3\n"
          ],
          "name": "stdout"
        }
      ]
    },
    {
      "cell_type": "code",
      "metadata": {
        "id": "jNRUMFBKcQ-h"
      },
      "source": [
        ""
      ],
      "execution_count": null,
      "outputs": []
    }
  ]
}