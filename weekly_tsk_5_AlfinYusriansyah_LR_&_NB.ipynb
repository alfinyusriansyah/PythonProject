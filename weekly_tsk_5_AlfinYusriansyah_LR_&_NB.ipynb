{
  "nbformat": 4,
  "nbformat_minor": 0,
  "metadata": {
    "kernelspec": {
      "display_name": "Python (sandbox)",
      "language": "python",
      "name": "sandbox"
    },
    "language_info": {
      "codemirror_mode": {
        "name": "ipython",
        "version": 3
      },
      "file_extension": ".py",
      "mimetype": "text/x-python",
      "name": "python",
      "nbconvert_exporter": "python",
      "pygments_lexer": "ipython3",
      "version": "3.7.8"
    },
    "colab": {
      "name": "weekly_tsk_5_AlfinYusriansyah_LR & NB.ipynb",
      "provenance": [],
      "collapsed_sections": []
    }
  },
  "cells": [
    {
      "cell_type": "markdown",
      "metadata": {
        "id": "aj_zMtSx3G7B"
      },
      "source": [
        "# Quiz Explore\n",
        "\n",
        "1. Jelaskan sesuai pemahaman kalian pengertian dari pertanyaan dibawah ini, jelaskan menggunakan docstring\n",
        "    - Machine Learning\n",
        "    - Supervised Learning\n",
        "2. Lakukan eksplorasi pada dataset `data_multiple.csv` menggunakan metode Linear Regression! Lalu jelaskan menggunakan docstring\n",
        "3. Lakukan ekplorasi menggunakan dataset yang sudah disediakan oleh library scikit-learn dan terapkan metode Naive Bayes! Jelaskan menggunakan docstring\n",
        "\n",
        "Selamat mengerjakan"
      ]
    },
    {
      "cell_type": "markdown",
      "metadata": {
        "id": "AHzbiMIG3G7X"
      },
      "source": [
        "![ShubaURL](https://cdn.discordapp.com/attachments/566222829532479500/787997169725997096/1607911213400.png 'shubashubashuba')"
      ]
    },
    {
      "cell_type": "markdown",
      "metadata": {
        "id": "yTIznoRx3G7Z"
      },
      "source": [
        "### Library yang digunakan "
      ]
    },
    {
      "cell_type": "code",
      "metadata": {
        "ExecuteTime": {
          "end_time": "2021-01-14T09:37:03.388666Z",
          "start_time": "2021-01-14T09:37:03.383631Z"
        },
        "id": "D4aBgpqL3G7Z"
      },
      "source": [
        "'''\n",
        "1. Machine Leraning : ML merupakan salah satu cabang ilmu AI yang termasuk metode, atau algoritma untuk membuat sistem berjalan otomatis dengan menggunakan data.\n",
        "2. Supervised Learning : Jika LABEL/CLASS dari dataset sudah diketahui maka dikategorikan sebagai supervised learning, \n",
        "   Label maksudnya adalah tag dari data yang ditambahkan dalam machine learning model.\n",
        "...\n",
        "...\n",
        "...\n",
        "'''\n",
        "\n",
        "import pandas as pd\n",
        "import numpy as np\n",
        "import matplotlib.pyplot as plt\n",
        "from sklearn.linear_model import LinearRegression # Metode Linear Regression\n",
        "from sklearn.naive_bayes import GaussianNB # Metode Naive Bayes\n",
        "from sklearn import datasets # Dataset yang sudah disediakan oleh Scikit Learns\n",
        "from sklearn import metrics\n",
        "from sklearn.model_selection import train_test_split"
      ],
      "execution_count": null,
      "outputs": []
    },
    {
      "cell_type": "code",
      "metadata": {
        "colab": {
          "base_uri": "https://localhost:8080/",
          "height": 359
        },
        "id": "zg8fZ5ACTD1_",
        "outputId": "0e7bee33-96fc-44dd-a7b6-a37b521053e1"
      },
      "source": [
        "import seaborn as sns\r\n",
        "\r\n",
        "data = pd.read_csv(\"/content/data_multiple.csv\")\r\n",
        "data.head(10)"
      ],
      "execution_count": null,
      "outputs": [
        {
          "output_type": "execute_result",
          "data": {
            "text/html": [
              "<div>\n",
              "<style scoped>\n",
              "    .dataframe tbody tr th:only-of-type {\n",
              "        vertical-align: middle;\n",
              "    }\n",
              "\n",
              "    .dataframe tbody tr th {\n",
              "        vertical-align: top;\n",
              "    }\n",
              "\n",
              "    .dataframe thead th {\n",
              "        text-align: right;\n",
              "    }\n",
              "</style>\n",
              "<table border=\"1\" class=\"dataframe\">\n",
              "  <thead>\n",
              "    <tr style=\"text-align: right;\">\n",
              "      <th></th>\n",
              "      <th>Nama</th>\n",
              "      <th>Tugas</th>\n",
              "      <th>Quiz</th>\n",
              "      <th>UTS</th>\n",
              "      <th>UAS</th>\n",
              "      <th>Absensi</th>\n",
              "      <th>NA</th>\n",
              "    </tr>\n",
              "  </thead>\n",
              "  <tbody>\n",
              "    <tr>\n",
              "      <th>0</th>\n",
              "      <td>Adi</td>\n",
              "      <td>75</td>\n",
              "      <td>35</td>\n",
              "      <td>63</td>\n",
              "      <td>85</td>\n",
              "      <td>98</td>\n",
              "      <td>72.90</td>\n",
              "    </tr>\n",
              "    <tr>\n",
              "      <th>1</th>\n",
              "      <td>Suci</td>\n",
              "      <td>48</td>\n",
              "      <td>53</td>\n",
              "      <td>74</td>\n",
              "      <td>49</td>\n",
              "      <td>78</td>\n",
              "      <td>56.15</td>\n",
              "    </tr>\n",
              "    <tr>\n",
              "      <th>2</th>\n",
              "      <td>Tino</td>\n",
              "      <td>55</td>\n",
              "      <td>73</td>\n",
              "      <td>81</td>\n",
              "      <td>76</td>\n",
              "      <td>66</td>\n",
              "      <td>71.20</td>\n",
              "    </tr>\n",
              "    <tr>\n",
              "      <th>3</th>\n",
              "      <td>Andi</td>\n",
              "      <td>49</td>\n",
              "      <td>27</td>\n",
              "      <td>66</td>\n",
              "      <td>53</td>\n",
              "      <td>89</td>\n",
              "      <td>51.90</td>\n",
              "    </tr>\n",
              "    <tr>\n",
              "      <th>4</th>\n",
              "      <td>Rina</td>\n",
              "      <td>40</td>\n",
              "      <td>44</td>\n",
              "      <td>67</td>\n",
              "      <td>54</td>\n",
              "      <td>60</td>\n",
              "      <td>50.80</td>\n",
              "    </tr>\n",
              "    <tr>\n",
              "      <th>5</th>\n",
              "      <td>Deny</td>\n",
              "      <td>23</td>\n",
              "      <td>38</td>\n",
              "      <td>70</td>\n",
              "      <td>48</td>\n",
              "      <td>99</td>\n",
              "      <td>51.25</td>\n",
              "    </tr>\n",
              "    <tr>\n",
              "      <th>6</th>\n",
              "      <td>Lina</td>\n",
              "      <td>59</td>\n",
              "      <td>39</td>\n",
              "      <td>50</td>\n",
              "      <td>52</td>\n",
              "      <td>66</td>\n",
              "      <td>53.50</td>\n",
              "    </tr>\n",
              "    <tr>\n",
              "      <th>7</th>\n",
              "      <td>Tias</td>\n",
              "      <td>73</td>\n",
              "      <td>35</td>\n",
              "      <td>59</td>\n",
              "      <td>73</td>\n",
              "      <td>69</td>\n",
              "      <td>66.10</td>\n",
              "    </tr>\n",
              "    <tr>\n",
              "      <th>8</th>\n",
              "      <td>Nazier</td>\n",
              "      <td>74</td>\n",
              "      <td>57</td>\n",
              "      <td>71</td>\n",
              "      <td>64</td>\n",
              "      <td>98</td>\n",
              "      <td>74.25</td>\n",
              "    </tr>\n",
              "    <tr>\n",
              "      <th>9</th>\n",
              "      <td>Galuh</td>\n",
              "      <td>79</td>\n",
              "      <td>38</td>\n",
              "      <td>86</td>\n",
              "      <td>86</td>\n",
              "      <td>57</td>\n",
              "      <td>77.45</td>\n",
              "    </tr>\n",
              "  </tbody>\n",
              "</table>\n",
              "</div>"
            ],
            "text/plain": [
              "     Nama  Tugas  Quiz  UTS  UAS  Absensi     NA\n",
              "0     Adi     75    35   63   85       98  72.90\n",
              "1    Suci     48    53   74   49       78  56.15\n",
              "2    Tino     55    73   81   76       66  71.20\n",
              "3    Andi     49    27   66   53       89  51.90\n",
              "4    Rina     40    44   67   54       60  50.80\n",
              "5    Deny     23    38   70   48       99  51.25\n",
              "6    Lina     59    39   50   52       66  53.50\n",
              "7    Tias     73    35   59   73       69  66.10\n",
              "8  Nazier     74    57   71   64       98  74.25\n",
              "9   Galuh     79    38   86   86       57  77.45"
            ]
          },
          "metadata": {
            "tags": []
          },
          "execution_count": 44
        }
      ]
    },
    {
      "cell_type": "code",
      "metadata": {
        "colab": {
          "base_uri": "https://localhost:8080/",
          "height": 295
        },
        "id": "CMUrDuw1mD8L",
        "outputId": "6702048f-9ac8-4a78-b4a9-36fae323a6c5"
      },
      "source": [
        "data.plot(x='Tugas', y='NA', style='o')\r\n",
        "plt.title('Absensi vs Nilai Akhir')\r\n",
        "plt.xlabel('Nilai Absensi')\r\n",
        "plt.ylabel('Nilai NA')\r\n",
        "plt.show()\r\n",
        "\r\n",
        "'''\r\n",
        "cek korelasi anatra kolom Tugas dan Na, apakah memiliki korelasi negatif atau positif, \r\n",
        "dari hasil tersebut dihasilkan korelasi positif karena condong ke kanan atas\r\n",
        "...\r\n"
      ],
      "execution_count": null,
      "outputs": [
        {
          "output_type": "display_data",
          "data": {
            "image/png": "[encoded data removed]",
            "text/plain": [
              "<Figure size 432x288 with 1 Axes>"
            ]
          },
          "metadata": {
            "tags": [],
            "needs_background": "light"
          }
        }
      ]
    },
    {
      "cell_type": "code",
      "metadata": {
        "colab": {
          "base_uri": "https://localhost:8080/"
        },
        "id": "g8oJTw_ImERG",
        "outputId": "9ae05eb7-cbdb-4b57-9b94-2d3dc47c1017"
      },
      "source": [
        "data.shape"
      ],
      "execution_count": null,
      "outputs": [
        {
          "output_type": "execute_result",
          "data": {
            "text/plain": [
              "(20, 7)"
            ]
          },
          "metadata": {
            "tags": []
          },
          "execution_count": 5
        }
      ]
    },
    {
      "cell_type": "code",
      "metadata": {
        "id": "KbIx4TT-mEaE"
      },
      "source": [
        "data_train = data[:15]"
      ],
      "execution_count": null,
      "outputs": []
    },
    {
      "cell_type": "code",
      "metadata": {
        "id": "GkkIJnD9mEiE"
      },
      "source": [
        "X_train = data_train['Tugas'].values.reshape(-1, 1)\r\n",
        "Y_train = data_train['NA'].values.reshape(-1, 1)\r\n",
        "\r\n",
        "'''\r\n",
        "split data, menjadi data testing dan data trainig, \r\n",
        "yang dimana data training adalah data yang dilatih yaitu dengan menggunakan metode linear regression\r\n",
        "di atas ini merupakan data train\r\n",
        "..."
      ],
      "execution_count": null,
      "outputs": []
    },
    {
      "cell_type": "code",
      "metadata": {
        "colab": {
          "base_uri": "https://localhost:8080/",
          "height": 514
        },
        "id": "zY1Au-0rmEm5",
        "outputId": "c760ff2a-90f1-4495-f8e9-98b961cc62d2"
      },
      "source": [
        "data_train"
      ],
      "execution_count": null,
      "outputs": [
        {
          "output_type": "execute_result",
          "data": {
            "text/html": [
              "<div>\n",
              "<style scoped>\n",
              "    .dataframe tbody tr th:only-of-type {\n",
              "        vertical-align: middle;\n",
              "    }\n",
              "\n",
              "    .dataframe tbody tr th {\n",
              "        vertical-align: top;\n",
              "    }\n",
              "\n",
              "    .dataframe thead th {\n",
              "        text-align: right;\n",
              "    }\n",
              "</style>\n",
              "<table border=\"1\" class=\"dataframe\">\n",
              "  <thead>\n",
              "    <tr style=\"text-align: right;\">\n",
              "      <th></th>\n",
              "      <th>Nama</th>\n",
              "      <th>Tugas</th>\n",
              "      <th>Quiz</th>\n",
              "      <th>UTS</th>\n",
              "      <th>UAS</th>\n",
              "      <th>Absensi</th>\n",
              "      <th>NA</th>\n",
              "    </tr>\n",
              "  </thead>\n",
              "  <tbody>\n",
              "    <tr>\n",
              "      <th>0</th>\n",
              "      <td>Adi</td>\n",
              "      <td>75</td>\n",
              "      <td>35</td>\n",
              "      <td>63</td>\n",
              "      <td>85</td>\n",
              "      <td>98</td>\n",
              "      <td>72.90</td>\n",
              "    </tr>\n",
              "    <tr>\n",
              "      <th>1</th>\n",
              "      <td>Suci</td>\n",
              "      <td>48</td>\n",
              "      <td>53</td>\n",
              "      <td>74</td>\n",
              "      <td>49</td>\n",
              "      <td>78</td>\n",
              "      <td>56.15</td>\n",
              "    </tr>\n",
              "    <tr>\n",
              "      <th>2</th>\n",
              "      <td>Tino</td>\n",
              "      <td>55</td>\n",
              "      <td>73</td>\n",
              "      <td>81</td>\n",
              "      <td>76</td>\n",
              "      <td>66</td>\n",
              "      <td>71.20</td>\n",
              "    </tr>\n",
              "    <tr>\n",
              "      <th>3</th>\n",
              "      <td>Andi</td>\n",
              "      <td>49</td>\n",
              "      <td>27</td>\n",
              "      <td>66</td>\n",
              "      <td>53</td>\n",
              "      <td>89</td>\n",
              "      <td>51.90</td>\n",
              "    </tr>\n",
              "    <tr>\n",
              "      <th>4</th>\n",
              "      <td>Rina</td>\n",
              "      <td>40</td>\n",
              "      <td>44</td>\n",
              "      <td>67</td>\n",
              "      <td>54</td>\n",
              "      <td>60</td>\n",
              "      <td>50.80</td>\n",
              "    </tr>\n",
              "    <tr>\n",
              "      <th>5</th>\n",
              "      <td>Deny</td>\n",
              "      <td>23</td>\n",
              "      <td>38</td>\n",
              "      <td>70</td>\n",
              "      <td>48</td>\n",
              "      <td>99</td>\n",
              "      <td>51.25</td>\n",
              "    </tr>\n",
              "    <tr>\n",
              "      <th>6</th>\n",
              "      <td>Lina</td>\n",
              "      <td>59</td>\n",
              "      <td>39</td>\n",
              "      <td>50</td>\n",
              "      <td>52</td>\n",
              "      <td>66</td>\n",
              "      <td>53.50</td>\n",
              "    </tr>\n",
              "    <tr>\n",
              "      <th>7</th>\n",
              "      <td>Tias</td>\n",
              "      <td>73</td>\n",
              "      <td>35</td>\n",
              "      <td>59</td>\n",
              "      <td>73</td>\n",
              "      <td>69</td>\n",
              "      <td>66.10</td>\n",
              "    </tr>\n",
              "    <tr>\n",
              "      <th>8</th>\n",
              "      <td>Nazier</td>\n",
              "      <td>74</td>\n",
              "      <td>57</td>\n",
              "      <td>71</td>\n",
              "      <td>64</td>\n",
              "      <td>98</td>\n",
              "      <td>74.25</td>\n",
              "    </tr>\n",
              "    <tr>\n",
              "      <th>9</th>\n",
              "      <td>Galuh</td>\n",
              "      <td>79</td>\n",
              "      <td>38</td>\n",
              "      <td>86</td>\n",
              "      <td>86</td>\n",
              "      <td>57</td>\n",
              "      <td>77.45</td>\n",
              "    </tr>\n",
              "    <tr>\n",
              "      <th>10</th>\n",
              "      <td>Deby</td>\n",
              "      <td>24</td>\n",
              "      <td>50</td>\n",
              "      <td>81</td>\n",
              "      <td>56</td>\n",
              "      <td>63</td>\n",
              "      <td>46.60</td>\n",
              "    </tr>\n",
              "    <tr>\n",
              "      <th>11</th>\n",
              "      <td>Rony</td>\n",
              "      <td>35</td>\n",
              "      <td>64</td>\n",
              "      <td>54</td>\n",
              "      <td>59</td>\n",
              "      <td>53</td>\n",
              "      <td>46.75</td>\n",
              "    </tr>\n",
              "    <tr>\n",
              "      <th>12</th>\n",
              "      <td>Dandi</td>\n",
              "      <td>84</td>\n",
              "      <td>34</td>\n",
              "      <td>71</td>\n",
              "      <td>74</td>\n",
              "      <td>88</td>\n",
              "      <td>74.30</td>\n",
              "    </tr>\n",
              "    <tr>\n",
              "      <th>13</th>\n",
              "      <td>Azka</td>\n",
              "      <td>50</td>\n",
              "      <td>27</td>\n",
              "      <td>47</td>\n",
              "      <td>66</td>\n",
              "      <td>75</td>\n",
              "      <td>49.65</td>\n",
              "    </tr>\n",
              "    <tr>\n",
              "      <th>14</th>\n",
              "      <td>Reno</td>\n",
              "      <td>61</td>\n",
              "      <td>60</td>\n",
              "      <td>78</td>\n",
              "      <td>48</td>\n",
              "      <td>72</td>\n",
              "      <td>65.75</td>\n",
              "    </tr>\n",
              "  </tbody>\n",
              "</table>\n",
              "</div>"
            ],
            "text/plain": [
              "      Nama  Tugas  Quiz  UTS  UAS  Absensi     NA\n",
              "0      Adi     75    35   63   85       98  72.90\n",
              "1     Suci     48    53   74   49       78  56.15\n",
              "2     Tino     55    73   81   76       66  71.20\n",
              "3     Andi     49    27   66   53       89  51.90\n",
              "4     Rina     40    44   67   54       60  50.80\n",
              "5     Deny     23    38   70   48       99  51.25\n",
              "6     Lina     59    39   50   52       66  53.50\n",
              "7     Tias     73    35   59   73       69  66.10\n",
              "8   Nazier     74    57   71   64       98  74.25\n",
              "9    Galuh     79    38   86   86       57  77.45\n",
              "10    Deby     24    50   81   56       63  46.60\n",
              "11    Rony     35    64   54   59       53  46.75\n",
              "12   Dandi     84    34   71   74       88  74.30\n",
              "13    Azka     50    27   47   66       75  49.65\n",
              "14    Reno     61    60   78   48       72  65.75"
            ]
          },
          "metadata": {
            "tags": []
          },
          "execution_count": 9
        }
      ]
    },
    {
      "cell_type": "code",
      "metadata": {
        "id": "G42nFuEamEr-"
      },
      "source": [
        "data_test = data[15:]\r\n",
        "\r\n",
        "X_test = data_test['Tugas'].values.reshape(-1, 1)\r\n",
        "Y_test = data_test['NA'].values.reshape(-1, 1)\r\n",
        "\r\n",
        "'''\r\n",
        "di atas ini merupakan data train\r\n",
        "yang dimana data testing digunakan untuk menguji performa/akurasi dari model yang telah dilatih/di-training.\r\n",
        "..."
      ],
      "execution_count": null,
      "outputs": []
    },
    {
      "cell_type": "code",
      "metadata": {
        "colab": {
          "base_uri": "https://localhost:8080/",
          "height": 204
        },
        "id": "B2TMjSsCmExk",
        "outputId": "4a8a438c-3e19-48b9-d2fd-b8a214188ecc"
      },
      "source": [
        "data_test"
      ],
      "execution_count": null,
      "outputs": [
        {
          "output_type": "execute_result",
          "data": {
            "text/html": [
              "<div>\n",
              "<style scoped>\n",
              "    .dataframe tbody tr th:only-of-type {\n",
              "        vertical-align: middle;\n",
              "    }\n",
              "\n",
              "    .dataframe tbody tr th {\n",
              "        vertical-align: top;\n",
              "    }\n",
              "\n",
              "    .dataframe thead th {\n",
              "        text-align: right;\n",
              "    }\n",
              "</style>\n",
              "<table border=\"1\" class=\"dataframe\">\n",
              "  <thead>\n",
              "    <tr style=\"text-align: right;\">\n",
              "      <th></th>\n",
              "      <th>Nama</th>\n",
              "      <th>Tugas</th>\n",
              "      <th>Quiz</th>\n",
              "      <th>UTS</th>\n",
              "      <th>UAS</th>\n",
              "      <th>Absensi</th>\n",
              "      <th>NA</th>\n",
              "    </tr>\n",
              "  </thead>\n",
              "  <tbody>\n",
              "    <tr>\n",
              "      <th>15</th>\n",
              "      <td>Sandi</td>\n",
              "      <td>35</td>\n",
              "      <td>45</td>\n",
              "      <td>74</td>\n",
              "      <td>69</td>\n",
              "      <td>99</td>\n",
              "      <td>60.50</td>\n",
              "    </tr>\n",
              "    <tr>\n",
              "      <th>16</th>\n",
              "      <td>Linda</td>\n",
              "      <td>64</td>\n",
              "      <td>73</td>\n",
              "      <td>73</td>\n",
              "      <td>59</td>\n",
              "      <td>86</td>\n",
              "      <td>70.35</td>\n",
              "    </tr>\n",
              "    <tr>\n",
              "      <th>17</th>\n",
              "      <td>Sinta</td>\n",
              "      <td>29</td>\n",
              "      <td>39</td>\n",
              "      <td>47</td>\n",
              "      <td>82</td>\n",
              "      <td>98</td>\n",
              "      <td>52.60</td>\n",
              "    </tr>\n",
              "    <tr>\n",
              "      <th>18</th>\n",
              "      <td>Marni</td>\n",
              "      <td>88</td>\n",
              "      <td>53</td>\n",
              "      <td>88</td>\n",
              "      <td>46</td>\n",
              "      <td>84</td>\n",
              "      <td>73.95</td>\n",
              "    </tr>\n",
              "    <tr>\n",
              "      <th>19</th>\n",
              "      <td>Fandi</td>\n",
              "      <td>38</td>\n",
              "      <td>57</td>\n",
              "      <td>71</td>\n",
              "      <td>71</td>\n",
              "      <td>91</td>\n",
              "      <td>58.35</td>\n",
              "    </tr>\n",
              "  </tbody>\n",
              "</table>\n",
              "</div>"
            ],
            "text/plain": [
              "     Nama  Tugas  Quiz  UTS  UAS  Absensi     NA\n",
              "15  Sandi     35    45   74   69       99  60.50\n",
              "16  Linda     64    73   73   59       86  70.35\n",
              "17  Sinta     29    39   47   82       98  52.60\n",
              "18  Marni     88    53   88   46       84  73.95\n",
              "19  Fandi     38    57   71   71       91  58.35"
            ]
          },
          "metadata": {
            "tags": []
          },
          "execution_count": 11
        }
      ]
    },
    {
      "cell_type": "code",
      "metadata": {
        "id": "MgPcfJXLmE3V"
      },
      "source": [
        "from sklearn.linear_model import LinearRegression"
      ],
      "execution_count": null,
      "outputs": []
    },
    {
      "cell_type": "code",
      "metadata": {
        "colab": {
          "base_uri": "https://localhost:8080/"
        },
        "id": "YONQRqjemFPg",
        "outputId": "b19b7e1a-e593-4be7-f864-fca013f5639a"
      },
      "source": [
        "reg = LinearRegression()\r\n",
        "reg.fit(X_train, Y_train)\r\n",
        "\r\n",
        "'''\r\n",
        "menuju ke pelatihan model dataset, untuk melakukan pelatihan model, cukup memanggil fungsi LinearRegression() \r\n",
        "setelah itu menaggil fungsi fit() untuk melakukan pelatihan modelnya\r\n",
        "..."
      ],
      "execution_count": null,
      "outputs": [
        {
          "output_type": "execute_result",
          "data": {
            "text/plain": [
              "LinearRegression(copy_X=True, fit_intercept=True, n_jobs=None, normalize=False)"
            ]
          },
          "metadata": {
            "tags": []
          },
          "execution_count": 13
        }
      ]
    },
    {
      "cell_type": "code",
      "metadata": {
        "colab": {
          "base_uri": "https://localhost:8080/"
        },
        "id": "cGwiz_whuJQu",
        "outputId": "d01b3119-55a3-4675-9006-d1f6e261f509"
      },
      "source": [
        "print(reg.intercept_)\r\n",
        "\r\n",
        "'''\r\n",
        "...\r\n",
        "adalah jarak titik y pada garis dari titik 0"
      ],
      "execution_count": null,
      "outputs": [
        {
          "output_type": "stream",
          "text": [
            "[32.22915076]\n"
          ],
          "name": "stdout"
        }
      ]
    },
    {
      "cell_type": "code",
      "metadata": {
        "colab": {
          "base_uri": "https://localhost:8080/"
        },
        "id": "wJ9mSubtuJWQ",
        "outputId": "757e38c4-c084-4d4e-a35c-27d36bc8d60f"
      },
      "source": [
        "print(reg.coef_)\r\n",
        "\r\n",
        "'''\r\n",
        "adalah nilai coeffesien \r\n",
        "..."
      ],
      "execution_count": null,
      "outputs": [
        {
          "output_type": "stream",
          "text": [
            "[[0.51280186]]\n"
          ],
          "name": "stdout"
        }
      ]
    },
    {
      "cell_type": "code",
      "metadata": {
        "id": "zz1uKsDxuJeM"
      },
      "source": [
        "pred = reg.predict(X_test)\r\n",
        "'''\r\n",
        "Lalu memeprediksi dari hasil pelatihan/training tadi ke X_test\r\n",
        "..."
      ],
      "execution_count": null,
      "outputs": []
    },
    {
      "cell_type": "code",
      "metadata": {
        "colab": {
          "base_uri": "https://localhost:8080/"
        },
        "id": "BmRE-fJjuJjw",
        "outputId": "426c5daa-be23-4a43-bd67-61871a9c914b"
      },
      "source": [
        "print(pred)"
      ],
      "execution_count": null,
      "outputs": [
        {
          "output_type": "stream",
          "text": [
            "[[50.17721572]\n",
            " [65.04846954]\n",
            " [47.10040458]\n",
            " [77.35571409]\n",
            " [51.71562129]]\n"
          ],
          "name": "stdout"
        }
      ]
    },
    {
      "cell_type": "code",
      "metadata": {
        "colab": {
          "base_uri": "https://localhost:8080/",
          "height": 204
        },
        "id": "wAR_-IOXuJqf",
        "outputId": "4f6c8488-c8e9-4d8c-80e5-ad4bf995a8fc"
      },
      "source": [
        "data_test = pd.DataFrame({\"Ground Thrut \": X_test.flatten(), \"prediksi\" : pred.flatten()})\r\n",
        "data_test\r\n",
        "\r\n",
        "'''\r\n",
        "Ground Thrut, disini adalah titik acuan/ nilai kebenaran, maka jika nilai dari hasil prediksi  mendekati atau sama dengan nilai ground thrut\r\n",
        "maka nilai prediksi tersebut semakin baik\r\n",
        "..."
      ],
      "execution_count": null,
      "outputs": [
        {
          "output_type": "execute_result",
          "data": {
            "text/html": [
              "<div>\n",
              "<style scoped>\n",
              "    .dataframe tbody tr th:only-of-type {\n",
              "        vertical-align: middle;\n",
              "    }\n",
              "\n",
              "    .dataframe tbody tr th {\n",
              "        vertical-align: top;\n",
              "    }\n",
              "\n",
              "    .dataframe thead th {\n",
              "        text-align: right;\n",
              "    }\n",
              "</style>\n",
              "<table border=\"1\" class=\"dataframe\">\n",
              "  <thead>\n",
              "    <tr style=\"text-align: right;\">\n",
              "      <th></th>\n",
              "      <th>Ground Thrut</th>\n",
              "      <th>prediksi</th>\n",
              "    </tr>\n",
              "  </thead>\n",
              "  <tbody>\n",
              "    <tr>\n",
              "      <th>0</th>\n",
              "      <td>35</td>\n",
              "      <td>50.177216</td>\n",
              "    </tr>\n",
              "    <tr>\n",
              "      <th>1</th>\n",
              "      <td>64</td>\n",
              "      <td>65.048470</td>\n",
              "    </tr>\n",
              "    <tr>\n",
              "      <th>2</th>\n",
              "      <td>29</td>\n",
              "      <td>47.100405</td>\n",
              "    </tr>\n",
              "    <tr>\n",
              "      <th>3</th>\n",
              "      <td>88</td>\n",
              "      <td>77.355714</td>\n",
              "    </tr>\n",
              "    <tr>\n",
              "      <th>4</th>\n",
              "      <td>38</td>\n",
              "      <td>51.715621</td>\n",
              "    </tr>\n",
              "  </tbody>\n",
              "</table>\n",
              "</div>"
            ],
            "text/plain": [
              "   Ground Thrut    prediksi\n",
              "0             35  50.177216\n",
              "1             64  65.048470\n",
              "2             29  47.100405\n",
              "3             88  77.355714\n",
              "4             38  51.715621"
            ]
          },
          "metadata": {
            "tags": []
          },
          "execution_count": 21
        }
      ]
    },
    {
      "cell_type": "code",
      "metadata": {
        "colab": {
          "base_uri": "https://localhost:8080/",
          "height": 265
        },
        "id": "4-OEKe3BuJv5",
        "outputId": "7463c3fc-f936-4fee-9f40-7072266feaa0"
      },
      "source": [
        "plt.scatter(X_test, Y_test)\r\n",
        "plt.plot(X_test, pred, color= \"red\", linewidth = 2)\r\n",
        "plt.show()"
      ],
      "execution_count": null,
      "outputs": [
        {
          "output_type": "display_data",
          "data": {
            "image/png": "[encoded data removed]",
            "text/plain": [
              "<Figure size 432x288 with 1 Axes>"
            ]
          },
          "metadata": {
            "tags": [],
            "needs_background": "light"
          }
        }
      ]
    },
    {
      "cell_type": "code",
      "metadata": {
        "id": "JDVsPlNguKCV"
      },
      "source": [
        ""
      ],
      "execution_count": null,
      "outputs": []
    },
    {
      "cell_type": "markdown",
      "metadata": {
        "id": "YiQzu7eyTZxL"
      },
      "source": [
        "<h1> Navie Bayes <h1>"
      ]
    },
    {
      "cell_type": "code",
      "metadata": {
        "id": "afAZkzXQU_Q-",
        "colab": {
          "base_uri": "https://localhost:8080/",
          "height": 439
        },
        "outputId": "03d52cb2-e024-4a08-863a-53abda7c5006"
      },
      "source": [
        "df_hp= pd.read_csv('/content/test.csv')\r\n",
        "df_hp"
      ],
      "execution_count": null,
      "outputs": [
        {
          "output_type": "execute_result",
          "data": {
            "text/html": [
              "<div>\n",
              "<style scoped>\n",
              "    .dataframe tbody tr th:only-of-type {\n",
              "        vertical-align: middle;\n",
              "    }\n",
              "\n",
              "    .dataframe tbody tr th {\n",
              "        vertical-align: top;\n",
              "    }\n",
              "\n",
              "    .dataframe thead th {\n",
              "        text-align: right;\n",
              "    }\n",
              "</style>\n",
              "<table border=\"1\" class=\"dataframe\">\n",
              "  <thead>\n",
              "    <tr style=\"text-align: right;\">\n",
              "      <th></th>\n",
              "      <th>id</th>\n",
              "      <th>battery_power</th>\n",
              "      <th>blue</th>\n",
              "      <th>clock_speed</th>\n",
              "      <th>dual_sim</th>\n",
              "      <th>fc</th>\n",
              "      <th>four_g</th>\n",
              "      <th>int_memory</th>\n",
              "      <th>m_dep</th>\n",
              "      <th>mobile_wt</th>\n",
              "      <th>n_cores</th>\n",
              "      <th>pc</th>\n",
              "      <th>px_height</th>\n",
              "      <th>px_width</th>\n",
              "      <th>ram</th>\n",
              "      <th>sc_h</th>\n",
              "      <th>sc_w</th>\n",
              "      <th>talk_time</th>\n",
              "      <th>three_g</th>\n",
              "      <th>touch_screen</th>\n",
              "      <th>wifi</th>\n",
              "    </tr>\n",
              "  </thead>\n",
              "  <tbody>\n",
              "    <tr>\n",
              "      <th>0</th>\n",
              "      <td>1</td>\n",
              "      <td>1043</td>\n",
              "      <td>1</td>\n",
              "      <td>1.8</td>\n",
              "      <td>1</td>\n",
              "      <td>14</td>\n",
              "      <td>0</td>\n",
              "      <td>5</td>\n",
              "      <td>0.1</td>\n",
              "      <td>193</td>\n",
              "      <td>3</td>\n",
              "      <td>16</td>\n",
              "      <td>226</td>\n",
              "      <td>1412</td>\n",
              "      <td>3476</td>\n",
              "      <td>12</td>\n",
              "      <td>7</td>\n",
              "      <td>2</td>\n",
              "      <td>0</td>\n",
              "      <td>1</td>\n",
              "      <td>0</td>\n",
              "    </tr>\n",
              "    <tr>\n",
              "      <th>1</th>\n",
              "      <td>2</td>\n",
              "      <td>841</td>\n",
              "      <td>1</td>\n",
              "      <td>0.5</td>\n",
              "      <td>1</td>\n",
              "      <td>4</td>\n",
              "      <td>1</td>\n",
              "      <td>61</td>\n",
              "      <td>0.8</td>\n",
              "      <td>191</td>\n",
              "      <td>5</td>\n",
              "      <td>12</td>\n",
              "      <td>746</td>\n",
              "      <td>857</td>\n",
              "      <td>3895</td>\n",
              "      <td>6</td>\n",
              "      <td>0</td>\n",
              "      <td>7</td>\n",
              "      <td>1</td>\n",
              "      <td>0</td>\n",
              "      <td>0</td>\n",
              "    </tr>\n",
              "    <tr>\n",
              "      <th>2</th>\n",
              "      <td>3</td>\n",
              "      <td>1807</td>\n",
              "      <td>1</td>\n",
              "      <td>2.8</td>\n",
              "      <td>0</td>\n",
              "      <td>1</td>\n",
              "      <td>0</td>\n",
              "      <td>27</td>\n",
              "      <td>0.9</td>\n",
              "      <td>186</td>\n",
              "      <td>3</td>\n",
              "      <td>4</td>\n",
              "      <td>1270</td>\n",
              "      <td>1366</td>\n",
              "      <td>2396</td>\n",
              "      <td>17</td>\n",
              "      <td>10</td>\n",
              "      <td>10</td>\n",
              "      <td>0</td>\n",
              "      <td>1</td>\n",
              "      <td>1</td>\n",
              "    </tr>\n",
              "    <tr>\n",
              "      <th>3</th>\n",
              "      <td>4</td>\n",
              "      <td>1546</td>\n",
              "      <td>0</td>\n",
              "      <td>0.5</td>\n",
              "      <td>1</td>\n",
              "      <td>18</td>\n",
              "      <td>1</td>\n",
              "      <td>25</td>\n",
              "      <td>0.5</td>\n",
              "      <td>96</td>\n",
              "      <td>8</td>\n",
              "      <td>20</td>\n",
              "      <td>295</td>\n",
              "      <td>1752</td>\n",
              "      <td>3893</td>\n",
              "      <td>10</td>\n",
              "      <td>0</td>\n",
              "      <td>7</td>\n",
              "      <td>1</td>\n",
              "      <td>1</td>\n",
              "      <td>0</td>\n",
              "    </tr>\n",
              "    <tr>\n",
              "      <th>4</th>\n",
              "      <td>5</td>\n",
              "      <td>1434</td>\n",
              "      <td>0</td>\n",
              "      <td>1.4</td>\n",
              "      <td>0</td>\n",
              "      <td>11</td>\n",
              "      <td>1</td>\n",
              "      <td>49</td>\n",
              "      <td>0.5</td>\n",
              "      <td>108</td>\n",
              "      <td>6</td>\n",
              "      <td>18</td>\n",
              "      <td>749</td>\n",
              "      <td>810</td>\n",
              "      <td>1773</td>\n",
              "      <td>15</td>\n",
              "      <td>8</td>\n",
              "      <td>7</td>\n",
              "      <td>1</td>\n",
              "      <td>0</td>\n",
              "      <td>1</td>\n",
              "    </tr>\n",
              "    <tr>\n",
              "      <th>...</th>\n",
              "      <td>...</td>\n",
              "      <td>...</td>\n",
              "      <td>...</td>\n",
              "      <td>...</td>\n",
              "      <td>...</td>\n",
              "      <td>...</td>\n",
              "      <td>...</td>\n",
              "      <td>...</td>\n",
              "      <td>...</td>\n",
              "      <td>...</td>\n",
              "      <td>...</td>\n",
              "      <td>...</td>\n",
              "      <td>...</td>\n",
              "      <td>...</td>\n",
              "      <td>...</td>\n",
              "      <td>...</td>\n",
              "      <td>...</td>\n",
              "      <td>...</td>\n",
              "      <td>...</td>\n",
              "      <td>...</td>\n",
              "      <td>...</td>\n",
              "    </tr>\n",
              "    <tr>\n",
              "      <th>995</th>\n",
              "      <td>996</td>\n",
              "      <td>1700</td>\n",
              "      <td>1</td>\n",
              "      <td>1.9</td>\n",
              "      <td>0</td>\n",
              "      <td>0</td>\n",
              "      <td>1</td>\n",
              "      <td>54</td>\n",
              "      <td>0.5</td>\n",
              "      <td>170</td>\n",
              "      <td>7</td>\n",
              "      <td>17</td>\n",
              "      <td>644</td>\n",
              "      <td>913</td>\n",
              "      <td>2121</td>\n",
              "      <td>14</td>\n",
              "      <td>8</td>\n",
              "      <td>15</td>\n",
              "      <td>1</td>\n",
              "      <td>1</td>\n",
              "      <td>0</td>\n",
              "    </tr>\n",
              "    <tr>\n",
              "      <th>996</th>\n",
              "      <td>997</td>\n",
              "      <td>609</td>\n",
              "      <td>0</td>\n",
              "      <td>1.8</td>\n",
              "      <td>1</td>\n",
              "      <td>0</td>\n",
              "      <td>0</td>\n",
              "      <td>13</td>\n",
              "      <td>0.9</td>\n",
              "      <td>186</td>\n",
              "      <td>4</td>\n",
              "      <td>2</td>\n",
              "      <td>1152</td>\n",
              "      <td>1632</td>\n",
              "      <td>1933</td>\n",
              "      <td>8</td>\n",
              "      <td>1</td>\n",
              "      <td>19</td>\n",
              "      <td>0</td>\n",
              "      <td>1</td>\n",
              "      <td>1</td>\n",
              "    </tr>\n",
              "    <tr>\n",
              "      <th>997</th>\n",
              "      <td>998</td>\n",
              "      <td>1185</td>\n",
              "      <td>0</td>\n",
              "      <td>1.4</td>\n",
              "      <td>0</td>\n",
              "      <td>1</td>\n",
              "      <td>1</td>\n",
              "      <td>8</td>\n",
              "      <td>0.5</td>\n",
              "      <td>80</td>\n",
              "      <td>1</td>\n",
              "      <td>12</td>\n",
              "      <td>477</td>\n",
              "      <td>825</td>\n",
              "      <td>1223</td>\n",
              "      <td>5</td>\n",
              "      <td>0</td>\n",
              "      <td>14</td>\n",
              "      <td>1</td>\n",
              "      <td>0</td>\n",
              "      <td>0</td>\n",
              "    </tr>\n",
              "    <tr>\n",
              "      <th>998</th>\n",
              "      <td>999</td>\n",
              "      <td>1533</td>\n",
              "      <td>1</td>\n",
              "      <td>0.5</td>\n",
              "      <td>1</td>\n",
              "      <td>0</td>\n",
              "      <td>0</td>\n",
              "      <td>50</td>\n",
              "      <td>0.4</td>\n",
              "      <td>171</td>\n",
              "      <td>2</td>\n",
              "      <td>12</td>\n",
              "      <td>38</td>\n",
              "      <td>832</td>\n",
              "      <td>2509</td>\n",
              "      <td>15</td>\n",
              "      <td>11</td>\n",
              "      <td>6</td>\n",
              "      <td>0</td>\n",
              "      <td>1</td>\n",
              "      <td>0</td>\n",
              "    </tr>\n",
              "    <tr>\n",
              "      <th>999</th>\n",
              "      <td>1000</td>\n",
              "      <td>1270</td>\n",
              "      <td>1</td>\n",
              "      <td>0.5</td>\n",
              "      <td>0</td>\n",
              "      <td>4</td>\n",
              "      <td>1</td>\n",
              "      <td>35</td>\n",
              "      <td>0.1</td>\n",
              "      <td>140</td>\n",
              "      <td>6</td>\n",
              "      <td>19</td>\n",
              "      <td>457</td>\n",
              "      <td>608</td>\n",
              "      <td>2828</td>\n",
              "      <td>9</td>\n",
              "      <td>2</td>\n",
              "      <td>3</td>\n",
              "      <td>1</td>\n",
              "      <td>0</td>\n",
              "      <td>1</td>\n",
              "    </tr>\n",
              "  </tbody>\n",
              "</table>\n",
              "<p>1000 rows × 21 columns</p>\n",
              "</div>"
            ],
            "text/plain": [
              "       id  battery_power  blue  ...  three_g  touch_screen  wifi\n",
              "0       1           1043     1  ...        0             1     0\n",
              "1       2            841     1  ...        1             0     0\n",
              "2       3           1807     1  ...        0             1     1\n",
              "3       4           1546     0  ...        1             1     0\n",
              "4       5           1434     0  ...        1             0     1\n",
              "..    ...            ...   ...  ...      ...           ...   ...\n",
              "995   996           1700     1  ...        1             1     0\n",
              "996   997            609     0  ...        0             1     1\n",
              "997   998           1185     0  ...        1             0     0\n",
              "998   999           1533     1  ...        0             1     0\n",
              "999  1000           1270     1  ...        1             0     1\n",
              "\n",
              "[1000 rows x 21 columns]"
            ]
          },
          "metadata": {
            "tags": []
          },
          "execution_count": 45
        }
      ]
    },
    {
      "cell_type": "code",
      "metadata": {
        "id": "Z7Dq4ZwcVHMC"
      },
      "source": [
        "df_hp.drop(df_hp.columns[[0,2,4,8,9,10,11,12,13,14,15,16,17,18,19,20]], axis=1, inplace=True)\r\n",
        "\r\n",
        "'''\r\n",
        "drop kolom yang tidak digunakan\r\n",
        "..."
      ],
      "execution_count": null,
      "outputs": []
    },
    {
      "cell_type": "code",
      "metadata": {
        "id": "AhcQZmlT4CdB",
        "colab": {
          "base_uri": "https://localhost:8080/",
          "height": 419
        },
        "outputId": "b25934bc-efc8-42c6-fedb-aca0a7744e06"
      },
      "source": [
        "df_hp"
      ],
      "execution_count": null,
      "outputs": [
        {
          "output_type": "execute_result",
          "data": {
            "text/html": [
              "<div>\n",
              "<style scoped>\n",
              "    .dataframe tbody tr th:only-of-type {\n",
              "        vertical-align: middle;\n",
              "    }\n",
              "\n",
              "    .dataframe tbody tr th {\n",
              "        vertical-align: top;\n",
              "    }\n",
              "\n",
              "    .dataframe thead th {\n",
              "        text-align: right;\n",
              "    }\n",
              "</style>\n",
              "<table border=\"1\" class=\"dataframe\">\n",
              "  <thead>\n",
              "    <tr style=\"text-align: right;\">\n",
              "      <th></th>\n",
              "      <th>battery_power</th>\n",
              "      <th>clock_speed</th>\n",
              "      <th>fc</th>\n",
              "      <th>four_g</th>\n",
              "      <th>int_memory</th>\n",
              "    </tr>\n",
              "  </thead>\n",
              "  <tbody>\n",
              "    <tr>\n",
              "      <th>0</th>\n",
              "      <td>1043</td>\n",
              "      <td>1.8</td>\n",
              "      <td>14</td>\n",
              "      <td>0</td>\n",
              "      <td>5</td>\n",
              "    </tr>\n",
              "    <tr>\n",
              "      <th>1</th>\n",
              "      <td>841</td>\n",
              "      <td>0.5</td>\n",
              "      <td>4</td>\n",
              "      <td>1</td>\n",
              "      <td>61</td>\n",
              "    </tr>\n",
              "    <tr>\n",
              "      <th>2</th>\n",
              "      <td>1807</td>\n",
              "      <td>2.8</td>\n",
              "      <td>1</td>\n",
              "      <td>0</td>\n",
              "      <td>27</td>\n",
              "    </tr>\n",
              "    <tr>\n",
              "      <th>3</th>\n",
              "      <td>1546</td>\n",
              "      <td>0.5</td>\n",
              "      <td>18</td>\n",
              "      <td>1</td>\n",
              "      <td>25</td>\n",
              "    </tr>\n",
              "    <tr>\n",
              "      <th>4</th>\n",
              "      <td>1434</td>\n",
              "      <td>1.4</td>\n",
              "      <td>11</td>\n",
              "      <td>1</td>\n",
              "      <td>49</td>\n",
              "    </tr>\n",
              "    <tr>\n",
              "      <th>...</th>\n",
              "      <td>...</td>\n",
              "      <td>...</td>\n",
              "      <td>...</td>\n",
              "      <td>...</td>\n",
              "      <td>...</td>\n",
              "    </tr>\n",
              "    <tr>\n",
              "      <th>995</th>\n",
              "      <td>1700</td>\n",
              "      <td>1.9</td>\n",
              "      <td>0</td>\n",
              "      <td>1</td>\n",
              "      <td>54</td>\n",
              "    </tr>\n",
              "    <tr>\n",
              "      <th>996</th>\n",
              "      <td>609</td>\n",
              "      <td>1.8</td>\n",
              "      <td>0</td>\n",
              "      <td>0</td>\n",
              "      <td>13</td>\n",
              "    </tr>\n",
              "    <tr>\n",
              "      <th>997</th>\n",
              "      <td>1185</td>\n",
              "      <td>1.4</td>\n",
              "      <td>1</td>\n",
              "      <td>1</td>\n",
              "      <td>8</td>\n",
              "    </tr>\n",
              "    <tr>\n",
              "      <th>998</th>\n",
              "      <td>1533</td>\n",
              "      <td>0.5</td>\n",
              "      <td>0</td>\n",
              "      <td>0</td>\n",
              "      <td>50</td>\n",
              "    </tr>\n",
              "    <tr>\n",
              "      <th>999</th>\n",
              "      <td>1270</td>\n",
              "      <td>0.5</td>\n",
              "      <td>4</td>\n",
              "      <td>1</td>\n",
              "      <td>35</td>\n",
              "    </tr>\n",
              "  </tbody>\n",
              "</table>\n",
              "<p>1000 rows × 5 columns</p>\n",
              "</div>"
            ],
            "text/plain": [
              "     battery_power  clock_speed  fc  four_g  int_memory\n",
              "0             1043          1.8  14       0           5\n",
              "1              841          0.5   4       1          61\n",
              "2             1807          2.8   1       0          27\n",
              "3             1546          0.5  18       1          25\n",
              "4             1434          1.4  11       1          49\n",
              "..             ...          ...  ..     ...         ...\n",
              "995           1700          1.9   0       1          54\n",
              "996            609          1.8   0       0          13\n",
              "997           1185          1.4   1       1           8\n",
              "998           1533          0.5   0       0          50\n",
              "999           1270          0.5   4       1          35\n",
              "\n",
              "[1000 rows x 5 columns]"
            ]
          },
          "metadata": {
            "tags": []
          },
          "execution_count": 47
        }
      ]
    },
    {
      "cell_type": "code",
      "metadata": {
        "colab": {
          "base_uri": "https://localhost:8080/"
        },
        "id": "riLRDJpYWOQJ",
        "outputId": "4592eaf1-e0d5-4a0f-f555-18b682c74e67"
      },
      "source": [
        "df_hp.isnull().sum()"
      ],
      "execution_count": null,
      "outputs": [
        {
          "output_type": "execute_result",
          "data": {
            "text/plain": [
              "battery_power    0\n",
              "clock_speed      0\n",
              "fc               0\n",
              "four_g           0\n",
              "int_memory       0\n",
              "dtype: int64"
            ]
          },
          "metadata": {
            "tags": []
          },
          "execution_count": 48
        }
      ]
    },
    {
      "cell_type": "code",
      "metadata": {
        "id": "fERc1R6UX2xM"
      },
      "source": [
        "from sklearn.model_selection import train_test_split"
      ],
      "execution_count": null,
      "outputs": []
    },
    {
      "cell_type": "code",
      "metadata": {
        "colab": {
          "base_uri": "https://localhost:8080/",
          "height": 419
        },
        "id": "0L2C_4FjX847",
        "outputId": "7559b111-82bc-4d6b-dcfd-3ca78f480950"
      },
      "source": [
        "X = df_hp.drop('four_g', axis=1)\r\n",
        "X"
      ],
      "execution_count": null,
      "outputs": [
        {
          "output_type": "execute_result",
          "data": {
            "text/html": [
              "<div>\n",
              "<style scoped>\n",
              "    .dataframe tbody tr th:only-of-type {\n",
              "        vertical-align: middle;\n",
              "    }\n",
              "\n",
              "    .dataframe tbody tr th {\n",
              "        vertical-align: top;\n",
              "    }\n",
              "\n",
              "    .dataframe thead th {\n",
              "        text-align: right;\n",
              "    }\n",
              "</style>\n",
              "<table border=\"1\" class=\"dataframe\">\n",
              "  <thead>\n",
              "    <tr style=\"text-align: right;\">\n",
              "      <th></th>\n",
              "      <th>battery_power</th>\n",
              "      <th>clock_speed</th>\n",
              "      <th>fc</th>\n",
              "      <th>int_memory</th>\n",
              "    </tr>\n",
              "  </thead>\n",
              "  <tbody>\n",
              "    <tr>\n",
              "      <th>0</th>\n",
              "      <td>1043</td>\n",
              "      <td>1.8</td>\n",
              "      <td>14</td>\n",
              "      <td>5</td>\n",
              "    </tr>\n",
              "    <tr>\n",
              "      <th>1</th>\n",
              "      <td>841</td>\n",
              "      <td>0.5</td>\n",
              "      <td>4</td>\n",
              "      <td>61</td>\n",
              "    </tr>\n",
              "    <tr>\n",
              "      <th>2</th>\n",
              "      <td>1807</td>\n",
              "      <td>2.8</td>\n",
              "      <td>1</td>\n",
              "      <td>27</td>\n",
              "    </tr>\n",
              "    <tr>\n",
              "      <th>3</th>\n",
              "      <td>1546</td>\n",
              "      <td>0.5</td>\n",
              "      <td>18</td>\n",
              "      <td>25</td>\n",
              "    </tr>\n",
              "    <tr>\n",
              "      <th>4</th>\n",
              "      <td>1434</td>\n",
              "      <td>1.4</td>\n",
              "      <td>11</td>\n",
              "      <td>49</td>\n",
              "    </tr>\n",
              "    <tr>\n",
              "      <th>...</th>\n",
              "      <td>...</td>\n",
              "      <td>...</td>\n",
              "      <td>...</td>\n",
              "      <td>...</td>\n",
              "    </tr>\n",
              "    <tr>\n",
              "      <th>995</th>\n",
              "      <td>1700</td>\n",
              "      <td>1.9</td>\n",
              "      <td>0</td>\n",
              "      <td>54</td>\n",
              "    </tr>\n",
              "    <tr>\n",
              "      <th>996</th>\n",
              "      <td>609</td>\n",
              "      <td>1.8</td>\n",
              "      <td>0</td>\n",
              "      <td>13</td>\n",
              "    </tr>\n",
              "    <tr>\n",
              "      <th>997</th>\n",
              "      <td>1185</td>\n",
              "      <td>1.4</td>\n",
              "      <td>1</td>\n",
              "      <td>8</td>\n",
              "    </tr>\n",
              "    <tr>\n",
              "      <th>998</th>\n",
              "      <td>1533</td>\n",
              "      <td>0.5</td>\n",
              "      <td>0</td>\n",
              "      <td>50</td>\n",
              "    </tr>\n",
              "    <tr>\n",
              "      <th>999</th>\n",
              "      <td>1270</td>\n",
              "      <td>0.5</td>\n",
              "      <td>4</td>\n",
              "      <td>35</td>\n",
              "    </tr>\n",
              "  </tbody>\n",
              "</table>\n",
              "<p>1000 rows × 4 columns</p>\n",
              "</div>"
            ],
            "text/plain": [
              "     battery_power  clock_speed  fc  int_memory\n",
              "0             1043          1.8  14           5\n",
              "1              841          0.5   4          61\n",
              "2             1807          2.8   1          27\n",
              "3             1546          0.5  18          25\n",
              "4             1434          1.4  11          49\n",
              "..             ...          ...  ..         ...\n",
              "995           1700          1.9   0          54\n",
              "996            609          1.8   0          13\n",
              "997           1185          1.4   1           8\n",
              "998           1533          0.5   0          50\n",
              "999           1270          0.5   4          35\n",
              "\n",
              "[1000 rows x 4 columns]"
            ]
          },
          "metadata": {
            "tags": []
          },
          "execution_count": 50
        }
      ]
    },
    {
      "cell_type": "code",
      "metadata": {
        "colab": {
          "base_uri": "https://localhost:8080/",
          "height": 419
        },
        "id": "iFBlyfL-YJai",
        "outputId": "fa98f12a-b6e4-46d3-e2e7-4fa427d7f96f"
      },
      "source": [
        "y= df_hp[['four_g']]\r\n",
        "y"
      ],
      "execution_count": null,
      "outputs": [
        {
          "output_type": "execute_result",
          "data": {
            "text/html": [
              "<div>\n",
              "<style scoped>\n",
              "    .dataframe tbody tr th:only-of-type {\n",
              "        vertical-align: middle;\n",
              "    }\n",
              "\n",
              "    .dataframe tbody tr th {\n",
              "        vertical-align: top;\n",
              "    }\n",
              "\n",
              "    .dataframe thead th {\n",
              "        text-align: right;\n",
              "    }\n",
              "</style>\n",
              "<table border=\"1\" class=\"dataframe\">\n",
              "  <thead>\n",
              "    <tr style=\"text-align: right;\">\n",
              "      <th></th>\n",
              "      <th>four_g</th>\n",
              "    </tr>\n",
              "  </thead>\n",
              "  <tbody>\n",
              "    <tr>\n",
              "      <th>0</th>\n",
              "      <td>0</td>\n",
              "    </tr>\n",
              "    <tr>\n",
              "      <th>1</th>\n",
              "      <td>1</td>\n",
              "    </tr>\n",
              "    <tr>\n",
              "      <th>2</th>\n",
              "      <td>0</td>\n",
              "    </tr>\n",
              "    <tr>\n",
              "      <th>3</th>\n",
              "      <td>1</td>\n",
              "    </tr>\n",
              "    <tr>\n",
              "      <th>4</th>\n",
              "      <td>1</td>\n",
              "    </tr>\n",
              "    <tr>\n",
              "      <th>...</th>\n",
              "      <td>...</td>\n",
              "    </tr>\n",
              "    <tr>\n",
              "      <th>995</th>\n",
              "      <td>1</td>\n",
              "    </tr>\n",
              "    <tr>\n",
              "      <th>996</th>\n",
              "      <td>0</td>\n",
              "    </tr>\n",
              "    <tr>\n",
              "      <th>997</th>\n",
              "      <td>1</td>\n",
              "    </tr>\n",
              "    <tr>\n",
              "      <th>998</th>\n",
              "      <td>0</td>\n",
              "    </tr>\n",
              "    <tr>\n",
              "      <th>999</th>\n",
              "      <td>1</td>\n",
              "    </tr>\n",
              "  </tbody>\n",
              "</table>\n",
              "<p>1000 rows × 1 columns</p>\n",
              "</div>"
            ],
            "text/plain": [
              "     four_g\n",
              "0         0\n",
              "1         1\n",
              "2         0\n",
              "3         1\n",
              "4         1\n",
              "..      ...\n",
              "995       1\n",
              "996       0\n",
              "997       1\n",
              "998       0\n",
              "999       1\n",
              "\n",
              "[1000 rows x 1 columns]"
            ]
          },
          "metadata": {
            "tags": []
          },
          "execution_count": 51
        }
      ]
    },
    {
      "cell_type": "code",
      "metadata": {
        "id": "XQ5YUii1YVPz"
      },
      "source": [
        "X_train, X_test, y_train, y_test = train_test_split(X, y, test_size = 0.2, random_state=0)"
      ],
      "execution_count": null,
      "outputs": []
    },
    {
      "cell_type": "code",
      "metadata": {
        "colab": {
          "base_uri": "https://localhost:8080/"
        },
        "id": "0vQuDYZ1YfU7",
        "outputId": "dec1ae08-544d-4785-ada3-656e3ba1580d"
      },
      "source": [
        "X_train.shape"
      ],
      "execution_count": null,
      "outputs": [
        {
          "output_type": "execute_result",
          "data": {
            "text/plain": [
              "(800, 4)"
            ]
          },
          "metadata": {
            "tags": []
          },
          "execution_count": 53
        }
      ]
    },
    {
      "cell_type": "code",
      "metadata": {
        "colab": {
          "base_uri": "https://localhost:8080/"
        },
        "id": "v0jFJXc6Yh1u",
        "outputId": "56c40ee7-1b7e-4609-92fc-a7bb518b4f84"
      },
      "source": [
        "X_test.shape"
      ],
      "execution_count": null,
      "outputs": [
        {
          "output_type": "execute_result",
          "data": {
            "text/plain": [
              "(200, 4)"
            ]
          },
          "metadata": {
            "tags": []
          },
          "execution_count": 54
        }
      ]
    },
    {
      "cell_type": "code",
      "metadata": {
        "id": "ypVWHvtrYj-b"
      },
      "source": [
        "from sklearn.naive_bayes import GaussianNB"
      ],
      "execution_count": null,
      "outputs": []
    },
    {
      "cell_type": "code",
      "metadata": {
        "colab": {
          "base_uri": "https://localhost:8080/"
        },
        "id": "SOGzLKPaYwdt",
        "outputId": "2b85dee4-1c06-413f-8ffb-d4145b985f5e"
      },
      "source": [
        "classifier = GaussianNB()\r\n",
        "classifier.fit(X_train, y_train)"
      ],
      "execution_count": null,
      "outputs": [
        {
          "output_type": "stream",
          "text": [
            "/usr/local/lib/python3.6/dist-packages/sklearn/naive_bayes.py:206: DataConversionWarning: A column-vector y was passed when a 1d array was expected. Please change the shape of y to (n_samples, ), for example using ravel().\n",
            "  y = column_or_1d(y, warn=True)\n"
          ],
          "name": "stderr"
        },
        {
          "output_type": "execute_result",
          "data": {
            "text/plain": [
              "GaussianNB(priors=None, var_smoothing=1e-09)"
            ]
          },
          "metadata": {
            "tags": []
          },
          "execution_count": 56
        }
      ]
    },
    {
      "cell_type": "code",
      "metadata": {
        "id": "pGX7Q01hYx9M"
      },
      "source": [
        "y_pred = classifier.predict(X_test)"
      ],
      "execution_count": null,
      "outputs": []
    },
    {
      "cell_type": "code",
      "metadata": {
        "colab": {
          "base_uri": "https://localhost:8080/"
        },
        "id": "ohD-J4mKY03M",
        "outputId": "4c0e5843-feda-4d90-81c2-4aed32d23496"
      },
      "source": [
        "from sklearn.metrics import confusion_matrix\r\n",
        "from sklearn.metrics import classification_report\r\n",
        "\r\n",
        "print(classification_report(y_test, y_pred))\r\n",
        "print(confusion_matrix(y_test, y_pred))\r\n",
        "# Accuracy score\r\n",
        "from sklearn.metrics import accuracy_score\r\n",
        "print('accuracy is',accuracy_score(y_pred,y_test))"
      ],
      "execution_count": null,
      "outputs": [
        {
          "output_type": "stream",
          "text": [
            "              precision    recall  f1-score   support\n",
            "\n",
            "           0       0.55      0.68      0.61       100\n",
            "           1       0.58      0.44      0.50       100\n",
            "\n",
            "    accuracy                           0.56       200\n",
            "   macro avg       0.56      0.56      0.55       200\n",
            "weighted avg       0.56      0.56      0.55       200\n",
            "\n",
            "[[68 32]\n",
            " [56 44]]\n",
            "accuracy is 0.56\n"
          ],
          "name": "stdout"
        }
      ]
    }
  ]
}